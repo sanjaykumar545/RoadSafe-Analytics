{
  "nbformat": 4,
  "nbformat_minor": 0,
  "metadata": {
    "colab": {
      "provenance": [],
      "gpuType": "V5E1",
      "authorship_tag": "ABX9TyP5fNVYarq2/V+HAMn8UF/k",
      "include_colab_link": true
    },
    "kernelspec": {
      "name": "python3",
      "display_name": "Python 3"
    },
    "language_info": {
      "name": "python"
    },
    "accelerator": "TPU"
  },
  "cells": [
    {
      "cell_type": "markdown",
      "metadata": {
        "id": "view-in-github",
        "colab_type": "text"
      },
      "source": [
        "<a href=\"https://colab.research.google.com/github/sanjaykumar545/RoadSafe-Analytics/blob/main/milestone1/week2/day9/date%26timehandling.ipynb\" target=\"_parent\"><img src=\"https://colab.research.google.com/assets/colab-badge.svg\" alt=\"Open In Colab\"/></a>"
      ]
    },
    {
      "cell_type": "code",
      "execution_count": 1,
      "metadata": {
        "id": "DpYTTPbf1Q6S"
      },
      "outputs": [],
      "source": [
        "import pandas as pd\n",
        "import numpy as np"
      ]
    },
    {
      "cell_type": "code",
      "source": [
        "#syntetic data : generates sequences of date from 01 to 10-01-2023 ,converted nto strings and then picking 15 dates(repetitions) from it\n",
        "np.random.seed(42)\n",
        "dates = pd.date_range(start='2023-01-01', periods=10, freq='D').astype(str)\n",
        "random_dates = np.random.choice(dates, size=15)\n"
      ],
      "metadata": {
        "id": "A2DcDnO_1yZb"
      },
      "execution_count": 27,
      "outputs": []
    },
    {
      "cell_type": "code",
      "source": [
        "#selecting random_dates,severity from 1-4\n",
        "df = pd.DataFrame({\n",
        "    'accident_id': range(1, 16),\n",
        "    'date_str': random_dates,\n",
        "    'severity': np.random.randint(1, 5, size=15)\n",
        "})\n",
        "print(df.head())"
      ],
      "metadata": {
        "colab": {
          "base_uri": "https://localhost:8080/"
        },
        "id": "6amEZApm2duj",
        "outputId": "edf8eca3-ac9a-4aee-d48d-357b92b9812b"
      },
      "execution_count": 28,
      "outputs": [
        {
          "output_type": "stream",
          "name": "stdout",
          "text": [
            "   accident_id    date_str  severity\n",
            "0            1  2023-01-07         1\n",
            "1            2  2023-01-04         2\n",
            "2            3  2023-01-08         4\n",
            "3            4  2023-01-05         4\n",
            "4            5  2023-01-07         2\n"
          ]
        }
      ]
    },
    {
      "cell_type": "code",
      "source": [
        "df['date'] = pd.to_datetime(df['date_str'])\n",
        "df['hour'] = df['date'].dt.hour\n",
        "df['weekday'] = df['date'].dt.day_name()\n",
        "df['month'] = df['date'].dt.month_name()"
      ],
      "metadata": {
        "id": "_22fZOsM26H9"
      },
      "execution_count": 29,
      "outputs": []
    },
    {
      "cell_type": "code",
      "source": [
        "#picking 2 random rows and replacing its dates with NAT\n",
        "nan_indices = np.random.choice(df.index, size=2, replace=False)\n",
        "df.loc[nan_indices, 'date'] = pd.NaT\n",
        "print(\"Dataset with NAT values\")\n",
        "print(df.loc[nan_indices])\n",
        "\n",
        "# Fill missing datetime values using forward fill method\n",
        "df['date_filled'] = df['date'].fillna(method='ffill')\n",
        "print(\"Dataset after filling with ffill method\\n\",df.loc[nan_indices])"
      ],
      "metadata": {
        "colab": {
          "base_uri": "https://localhost:8080/"
        },
        "id": "mPUKiNHH29AL",
        "outputId": "54529f9a-d783-4a71-81e0-827ed2a871d9"
      },
      "execution_count": 30,
      "outputs": [
        {
          "output_type": "stream",
          "name": "stdout",
          "text": [
            "Dataset with NAT values\n",
            "   accident_id    date_str  severity date  hour    weekday    month\n",
            "1            2  2023-01-04         2  NaT     0  Wednesday  January\n",
            "5            6  2023-01-10         2  NaT     0    Tuesday  January\n",
            "Dataset after filling with ffill method\n",
            "    accident_id    date_str  severity date  hour    weekday    month  \\\n",
            "1            2  2023-01-04         2  NaT     0  Wednesday  January   \n",
            "5            6  2023-01-10         2  NaT     0    Tuesday  January   \n",
            "\n",
            "  date_filled  \n",
            "1  2023-01-07  \n",
            "5  2023-01-07  \n"
          ]
        },
        {
          "output_type": "stream",
          "name": "stderr",
          "text": [
            "/tmp/ipython-input-3728485460.py:8: FutureWarning: Series.fillna with 'method' is deprecated and will raise in a future version. Use obj.ffill() or obj.bfill() instead.\n",
            "  df['date_filled'] = df['date'].fillna(method='ffill')\n"
          ]
        }
      ]
    },
    {
      "cell_type": "code",
      "source": [
        "df_dropped = df.dropna(subset=['date'])  #dropping columns with NAT values"
      ],
      "metadata": {
        "id": "Ixiwsks-8Mi0"
      },
      "execution_count": 31,
      "outputs": []
    },
    {
      "cell_type": "code",
      "source": [
        "# Filtering rows where date is after a specific datetime\n",
        "filter_df = df[df['date'] > pd.Timestamp('2023-01-06')]\n",
        "\n",
        "print(\"\\nRows after dropping missing datetime:\")\n",
        "print(df_dropped.head())\n",
        "\n",
        "print(\"\\nRows with date after 2023-01-06:\")\n",
        "print(filter_df.head())"
      ],
      "metadata": {
        "colab": {
          "base_uri": "https://localhost:8080/"
        },
        "id": "PaZDl5BZ9F-U",
        "outputId": "ed4d3e9f-f7f2-4d8b-c980-2d0e3aaca9d4"
      },
      "execution_count": 38,
      "outputs": [
        {
          "output_type": "stream",
          "name": "stdout",
          "text": [
            "\n",
            "Rows after dropping missing datetime:\n",
            "   accident_id    date_str  severity       date  hour   weekday    month  \\\n",
            "0            1  2023-01-07         1 2023-01-07     0  Saturday  January   \n",
            "2            3  2023-01-08         4 2023-01-08     0    Sunday  January   \n",
            "3            4  2023-01-05         4 2023-01-05     0  Thursday  January   \n",
            "4            5  2023-01-07         2 2023-01-07     0  Saturday  January   \n",
            "6            7  2023-01-03         2 2023-01-03     0   Tuesday  January   \n",
            "\n",
            "  date_filled  \n",
            "0  2023-01-07  \n",
            "2  2023-01-08  \n",
            "3  2023-01-05  \n",
            "4  2023-01-07  \n",
            "6  2023-01-03  \n",
            "\n",
            "Rows with date after 2023-01-06:\n",
            "   accident_id    date_str  severity       date  hour   weekday    month  \\\n",
            "0            1  2023-01-07         1 2023-01-07     0  Saturday  January   \n",
            "2            3  2023-01-08         4 2023-01-08     0    Sunday  January   \n",
            "4            5  2023-01-07         2 2023-01-07     0  Saturday  January   \n",
            "7            8  2023-01-07         4 2023-01-07     0  Saturday  January   \n",
            "8            9  2023-01-08         4 2023-01-08     0    Sunday  January   \n",
            "\n",
            "  date_filled  \n",
            "0  2023-01-07  \n",
            "2  2023-01-08  \n",
            "4  2023-01-07  \n",
            "7  2023-01-07  \n",
            "8  2023-01-08  \n"
          ]
        }
      ]
    }
  ]
}