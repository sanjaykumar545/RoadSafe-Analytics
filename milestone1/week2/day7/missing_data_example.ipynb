{
  "nbformat": 4,
  "nbformat_minor": 0,
  "metadata": {
    "colab": {
      "provenance": [],
      "gpuType": "V5E1",
      "authorship_tag": "ABX9TyNbXnn10P8buDO4hS2GQOMI",
      "include_colab_link": true
    },
    "kernelspec": {
      "name": "python3",
      "display_name": "Python 3"
    },
    "language_info": {
      "name": "python"
    },
    "accelerator": "TPU"
  },
  "cells": [
    {
      "cell_type": "markdown",
      "metadata": {
        "id": "view-in-github",
        "colab_type": "text"
      },
      "source": [
        "<a href=\"https://colab.research.google.com/github/sanjaykumar545/RoadSafe-Analytics/blob/main/milestone1/week2/day7/missing_data_example.ipynb\" target=\"_parent\"><img src=\"https://colab.research.google.com/assets/colab-badge.svg\" alt=\"Open In Colab\"/></a>"
      ]
    },
    {
      "cell_type": "code",
      "execution_count": 1,
      "metadata": {
        "id": "GWpNZHTu4DIo"
      },
      "outputs": [],
      "source": [
        "import pandas as pd\n",
        "import numpy as np"
      ]
    },
    {
      "cell_type": "code",
      "source": [
        "data={\n",
        "    'A':[1,2,np.nan,4],\n",
        "    'B':[np.nan,2,np.nan,4],\n",
        "    'C':[2,4,np.nan,6]\n",
        "}\n",
        "ds=pd.DataFrame(data)\n",
        "print(ds)\n",
        "rows=ds.dropna(axis=0)\n",
        "print(\"\\ndrops rows with nan values :\\n\",rows)\n",
        "cols=ds.dropna(axis=1)\n",
        "print(\"\\ndrops rows with nan values :\\n\",cols)\n",
        "\n",
        "#drop cols with morethan 51%\n",
        "per=0.51*len(ds)\n",
        "print(ds.dropna(axis=1,thresh=per))"
      ],
      "metadata": {
        "colab": {
          "base_uri": "https://localhost:8080/"
        },
        "id": "OMqfBZgv4o1Q",
        "outputId": "fcb3671e-db8f-4418-81dd-242e2bf85862"
      },
      "execution_count": 6,
      "outputs": [
        {
          "output_type": "stream",
          "name": "stdout",
          "text": [
            "     A    B    C\n",
            "0  1.0  NaN  2.0\n",
            "1  2.0  2.0  4.0\n",
            "2  NaN  NaN  NaN\n",
            "3  4.0  4.0  6.0\n",
            "\n",
            "drops rows with nan values :\n",
            "      A    B    C\n",
            "1  2.0  2.0  4.0\n",
            "3  4.0  4.0  6.0\n",
            "\n",
            "drops rows with nan values :\n",
            " Empty DataFrame\n",
            "Columns: []\n",
            "Index: [0, 1, 2, 3]\n",
            "     A    C\n",
            "0  1.0  2.0\n",
            "1  2.0  4.0\n",
            "2  NaN  NaN\n",
            "3  4.0  6.0\n"
          ]
        }
      ]
    },
    {
      "cell_type": "code",
      "source": [
        "ds.info()"
      ],
      "metadata": {
        "colab": {
          "base_uri": "https://localhost:8080/"
        },
        "id": "rWYKHBmGRf0s",
        "outputId": "c41c4bfd-1bc7-40bb-883d-5a4ee242afa6"
      },
      "execution_count": 12,
      "outputs": [
        {
          "output_type": "stream",
          "name": "stdout",
          "text": [
            "<class 'pandas.core.frame.DataFrame'>\n",
            "RangeIndex: 4 entries, 0 to 3\n",
            "Data columns (total 3 columns):\n",
            " #   Column  Non-Null Count  Dtype  \n",
            "---  ------  --------------  -----  \n",
            " 0   A       3 non-null      float64\n",
            " 1   B       2 non-null      float64\n",
            " 2   C       3 non-null      float64\n",
            "dtypes: float64(3)\n",
            "memory usage: 228.0 bytes\n"
          ]
        }
      ]
    },
    {
      "cell_type": "markdown",
      "source": [
        "Imputing example"
      ],
      "metadata": {
        "id": "JL0px9fWQW1y"
      }
    },
    {
      "cell_type": "markdown",
      "source": [
        "a. Filling with 0"
      ],
      "metadata": {
        "id": "R4XF56WsQlut"
      }
    },
    {
      "cell_type": "code",
      "source": [
        "ds_const=ds.fillna(0)\n",
        "print(ds_const)"
      ],
      "metadata": {
        "colab": {
          "base_uri": "https://localhost:8080/"
        },
        "id": "LQ1G_Vk-Qbiz",
        "outputId": "46cda6ca-23b5-4b87-d8c6-4fb26967053a"
      },
      "execution_count": 7,
      "outputs": [
        {
          "output_type": "stream",
          "name": "stdout",
          "text": [
            "     A    B    C\n",
            "0  1.0  0.0  2.0\n",
            "1  2.0  2.0  4.0\n",
            "2  0.0  0.0  0.0\n",
            "3  4.0  4.0  6.0\n"
          ]
        }
      ]
    },
    {
      "cell_type": "markdown",
      "source": [
        "Fill with mean , median and mode"
      ],
      "metadata": {
        "id": "LFDYAyAMQpQx"
      }
    },
    {
      "cell_type": "code",
      "source": [
        "#a mean\n",
        "ds_mean=ds.fillna(ds.mean(numeric_only=True))\n",
        "print(ds_mean)\n",
        "\n",
        "#b median\n",
        "ds_median=ds.fillna(ds.median(numeric_only=True))\n",
        "print(ds_median)\n",
        "\n",
        "#c mode\n",
        "ds_mode = ds.apply(lambda x: x.fillna(x.mode()[0]) if x.dtype=='O' else x)\n",
        "print(ds_mode)"
      ],
      "metadata": {
        "colab": {
          "base_uri": "https://localhost:8080/"
        },
        "id": "Zse-0EOCQtjN",
        "outputId": "42116352-c43a-4cb9-bc87-26c7db19294b"
      },
      "execution_count": 14,
      "outputs": [
        {
          "output_type": "stream",
          "name": "stdout",
          "text": [
            "          A    B    C\n",
            "0  1.000000  3.0  2.0\n",
            "1  2.000000  2.0  4.0\n",
            "2  2.333333  3.0  4.0\n",
            "3  4.000000  4.0  6.0\n",
            "     A    B    C\n",
            "0  1.0  3.0  2.0\n",
            "1  2.0  2.0  4.0\n",
            "2  2.0  3.0  4.0\n",
            "3  4.0  4.0  6.0\n",
            "     A    B    C\n",
            "0  1.0  NaN  2.0\n",
            "1  2.0  2.0  4.0\n",
            "2  NaN  NaN  NaN\n",
            "3  4.0  4.0  6.0\n"
          ]
        }
      ]
    },
    {
      "cell_type": "markdown",
      "source": [
        "c. Forward fill and backwardfill"
      ],
      "metadata": {
        "id": "IF7novB6SVpo"
      }
    },
    {
      "cell_type": "code",
      "source": [
        "ds_ffill=ds.fillna(method='ffill')\n",
        "print(ds_ffill)\n",
        "\n",
        "ds_bfill=ds.fillna(method='bfill')\n",
        "print(ds_bfill)"
      ],
      "metadata": {
        "colab": {
          "base_uri": "https://localhost:8080/"
        },
        "id": "_hFjStGqSZQP",
        "outputId": "8af36936-566c-41cd-a15a-570d83163843"
      },
      "execution_count": 17,
      "outputs": [
        {
          "output_type": "stream",
          "name": "stdout",
          "text": [
            "     A    B    C\n",
            "0  1.0  NaN  2.0\n",
            "1  2.0  2.0  4.0\n",
            "2  2.0  2.0  4.0\n",
            "3  4.0  4.0  6.0\n",
            "     A    B    C\n",
            "0  1.0  2.0  2.0\n",
            "1  2.0  2.0  4.0\n",
            "2  4.0  4.0  6.0\n",
            "3  4.0  4.0  6.0\n"
          ]
        },
        {
          "output_type": "stream",
          "name": "stderr",
          "text": [
            "/tmp/ipython-input-1954428299.py:1: FutureWarning: DataFrame.fillna with 'method' is deprecated and will raise in a future version. Use obj.ffill() or obj.bfill() instead.\n",
            "  ds_ffill=ds.fillna(method='ffill')\n",
            "/tmp/ipython-input-1954428299.py:4: FutureWarning: DataFrame.fillna with 'method' is deprecated and will raise in a future version. Use obj.ffill() or obj.bfill() instead.\n",
            "  ds_bfill=ds.fillna(method='bfill')\n"
          ]
        }
      ]
    },
    {
      "cell_type": "markdown",
      "source": [
        "d. Advanced knn"
      ],
      "metadata": {
        "id": "xktfV46CSr5d"
      }
    },
    {
      "cell_type": "code",
      "source": [
        "from sklearn.impute import KNNImputer\n",
        "imputer=KNNImputer(n_neighbors=2)\n",
        "ds_knn=pd.DataFrame(imputer.fit_transform(ds),columns=ds.columns)\n",
        "print(ds_knn)"
      ],
      "metadata": {
        "colab": {
          "base_uri": "https://localhost:8080/"
        },
        "id": "BRltwsTFSvzO",
        "outputId": "4ed3c82c-327a-4b62-dae6-373ce8a4a101"
      },
      "execution_count": 18,
      "outputs": [
        {
          "output_type": "stream",
          "name": "stdout",
          "text": [
            "          A    B    C\n",
            "0  1.000000  3.0  2.0\n",
            "1  2.000000  2.0  4.0\n",
            "2  2.333333  3.0  4.0\n",
            "3  4.000000  4.0  6.0\n"
          ]
        }
      ]
    },
    {
      "cell_type": "markdown",
      "source": [
        "3.Choosing the beast approach"
      ],
      "metadata": {
        "id": "NVa6F7mNTDiD"
      }
    },
    {
      "cell_type": "code",
      "source": [
        "data={\n",
        "    'Age': [25, np.nan, 30, 22, 40, np.nan, 28],\n",
        "    'Salary': [50000, 60000, np.nan, 52000, 58000, 62000, np.nan],\n",
        "    'City': ['New York', 'Los Angeles', 'New York', np.nan, 'Chicago', 'Chicago', 'Los Angeles'],\n",
        "    'Purchased': ['Yes', 'No', np.nan, 'No', 'Yes', 'Yes', 'No']\n",
        "}\n",
        "df_dummy=pd.DataFrame(data)\n",
        "print(df_dummy)\n",
        "df_imputed=df_dummy.copy()\n",
        "df_imputed['Age']=df_imputed['Age'].fillna(df_imputed['Age'].mean())\n",
        "df_imputed['Salary']=df_imputed['Salary'].fillna(df_imputed['Salary'].median())\n",
        "df_imputed['City']=df_imputed['City'].fillna(df_imputed['City'].mode()[0])\n",
        "df_imputed['Purchased']=df_imputed['Purchased'].fillna(df_imputed['Purchased'].mode()[0])\n",
        "print(\"\\n\")\n",
        "print(df_imputed)"
      ],
      "metadata": {
        "colab": {
          "base_uri": "https://localhost:8080/"
        },
        "id": "QXsokfS4TGps",
        "outputId": "f281f627-d89c-4652-da60-d097daa3bca3"
      },
      "execution_count": 23,
      "outputs": [
        {
          "output_type": "stream",
          "name": "stdout",
          "text": [
            "    Age   Salary         City Purchased\n",
            "0  25.0  50000.0     New York       Yes\n",
            "1   NaN  60000.0  Los Angeles        No\n",
            "2  30.0      NaN     New York       NaN\n",
            "3  22.0  52000.0          NaN        No\n",
            "4  40.0  58000.0      Chicago       Yes\n",
            "5   NaN  62000.0      Chicago       Yes\n",
            "6  28.0      NaN  Los Angeles        No\n",
            "\n",
            "\n",
            "    Age   Salary         City Purchased\n",
            "0  25.0  50000.0     New York       Yes\n",
            "1  29.0  60000.0  Los Angeles        No\n",
            "2  30.0  58000.0     New York        No\n",
            "3  22.0  52000.0      Chicago        No\n",
            "4  40.0  58000.0      Chicago       Yes\n",
            "5  29.0  62000.0      Chicago       Yes\n",
            "6  28.0  58000.0  Los Angeles        No\n"
          ]
        }
      ]
    }
  ]
}