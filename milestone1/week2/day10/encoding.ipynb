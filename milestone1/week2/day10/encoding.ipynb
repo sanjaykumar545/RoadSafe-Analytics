{
  "nbformat": 4,
  "nbformat_minor": 0,
  "metadata": {
    "colab": {
      "provenance": [],
      "authorship_tag": "ABX9TyOVNojvItN1IqgE+wFM1ofH",
      "include_colab_link": true
    },
    "kernelspec": {
      "name": "python3",
      "display_name": "Python 3"
    },
    "language_info": {
      "name": "python"
    }
  },
  "cells": [
    {
      "cell_type": "markdown",
      "metadata": {
        "id": "view-in-github",
        "colab_type": "text"
      },
      "source": [
        "<a href=\"https://colab.research.google.com/github/sanjaykumar545/RoadSafe-Analytics/blob/main/milestone1/week2/day10/encoding.ipynb\" target=\"_parent\"><img src=\"https://colab.research.google.com/assets/colab-badge.svg\" alt=\"Open In Colab\"/></a>"
      ]
    },
    {
      "cell_type": "code",
      "execution_count": 2,
      "metadata": {
        "colab": {
          "base_uri": "https://localhost:8080/"
        },
        "id": "VyNZaJYi-e8R",
        "outputId": "6e54a6c8-52fd-4f03-92a2-f25a698efe20"
      },
      "outputs": [
        {
          "output_type": "stream",
          "name": "stdout",
          "text": [
            "          City Weather  Severity  Accidents\n",
            "0     New York   Sunny         3        100\n",
            "1  Los Angeles   Rainy         2        150\n",
            "2     New York   Sunny         3        100\n",
            "3      Chicago  Cloudy         1         80\n",
            "4      Houston   Sunny         4         90\n",
            "5  Los Angeles   Rainy         2        150\n",
            "6       Boston   Rainy         3         60\n",
            "7       Boston   Sunny         3         60\n"
          ]
        }
      ],
      "source": [
        "import pandas as pd\n",
        "import numpy as np\n",
        "dc={\n",
        "    'City': ['New York', 'Los Angeles', 'New York', 'Chicago', 'Houston', 'Los Angeles', 'Boston', 'Boston', 'Chicago'],\n",
        "    'Weather': ['Sunny', 'Rainy', 'Sunny', 'Cloudy', 'Sunny', 'Rainy', 'Rainy', 'Sunny', 'Cloudy'],\n",
        "    'Severity': [3, 2, 3, 1, 4, 2, 3, 3, 1],\n",
        "    'Accidents': [100, 150, 100, 80, 90, 150, 60, 60, 80]\n",
        "}\n",
        "ds=pd.DataFrame(dc)\n",
        "print(ds.head(8))"
      ]
    },
    {
      "cell_type": "code",
      "source": [
        "#removing duplicates\n",
        "ds_ndup=ds.drop_duplicates()\n",
        "print(\"After removing dup : \\n\",ds_ndup)"
      ],
      "metadata": {
        "colab": {
          "base_uri": "https://localhost:8080/"
        },
        "id": "JSEa8FhLCwS7",
        "outputId": "22fd0bce-1089-4993-e53a-d6ecab04057a"
      },
      "execution_count": 6,
      "outputs": [
        {
          "output_type": "stream",
          "name": "stdout",
          "text": [
            "After removing dup : \n",
            "           City Weather  Severity  Accidents\n",
            "0     New York   Sunny         3        100\n",
            "1  Los Angeles   Rainy         2        150\n",
            "3      Chicago  Cloudy         1         80\n",
            "4      Houston   Sunny         4         90\n",
            "6       Boston   Rainy         3         60\n",
            "7       Boston   Sunny         3         60\n"
          ]
        }
      ]
    },
    {
      "cell_type": "code",
      "source": [
        "# Label Encoding with pandas category dtype\n",
        "ds_ndup['City_Encoded'] = ds_ndup['City'].astype('category').cat.codes\n",
        "print(\"\\nLabel Encoded 'City' column:\")\n",
        "print(ds_ndup[['City', 'City_Encoded']])"
      ],
      "metadata": {
        "colab": {
          "base_uri": "https://localhost:8080/"
        },
        "id": "fS3qek5EZflk",
        "outputId": "12e529d2-24d3-49ac-cd4a-ec76012bdfc7"
      },
      "execution_count": 8,
      "outputs": [
        {
          "output_type": "stream",
          "name": "stdout",
          "text": [
            "\n",
            "Label Encoded 'City' column:\n",
            "          City  City_Encoded\n",
            "0     New York             4\n",
            "1  Los Angeles             3\n",
            "3      Chicago             1\n",
            "4      Houston             2\n",
            "6       Boston             0\n",
            "7       Boston             0\n"
          ]
        },
        {
          "output_type": "stream",
          "name": "stderr",
          "text": [
            "/tmp/ipython-input-871311361.py:2: SettingWithCopyWarning: \n",
            "A value is trying to be set on a copy of a slice from a DataFrame.\n",
            "Try using .loc[row_indexer,col_indexer] = value instead\n",
            "\n",
            "See the caveats in the documentation: https://pandas.pydata.org/pandas-docs/stable/user_guide/indexing.html#returning-a-view-versus-a-copy\n",
            "  ds_ndup['City_Encoded'] = ds_ndup['City'].astype('category').cat.codes\n"
          ]
        }
      ]
    },
    {
      "cell_type": "code",
      "source": [
        "# One-Hot Encoding using pandas get_dummies\n",
        "ds_onehot = pd.get_dummies(ds_ndup, columns=['Weather'])\n",
        "print(\"\\nOne-Hot Encoded 'Weather' column:\")\n",
        "print(ds_onehot.head())"
      ],
      "metadata": {
        "colab": {
          "base_uri": "https://localhost:8080/"
        },
        "id": "VH70umOrZymW",
        "outputId": "b8971396-95e4-4229-c4f6-22ab9c32e431"
      },
      "execution_count": 9,
      "outputs": [
        {
          "output_type": "stream",
          "name": "stdout",
          "text": [
            "\n",
            "One-Hot Encoded 'Weather' column:\n",
            "          City  Severity  Accidents  City_Encoded  Weather_Cloudy  \\\n",
            "0     New York         3        100             4           False   \n",
            "1  Los Angeles         2        150             3           False   \n",
            "3      Chicago         1         80             1            True   \n",
            "4      Houston         4         90             2           False   \n",
            "6       Boston         3         60             0           False   \n",
            "\n",
            "   Weather_Rainy  Weather_Sunny  \n",
            "0          False           True  \n",
            "1           True          False  \n",
            "3          False          False  \n",
            "4          False           True  \n",
            "6           True          False  \n"
          ]
        }
      ]
    },
    {
      "cell_type": "code",
      "source": [
        "import numpy as np\n",
        "import matplotlib.pyplot as plt\n",
        "import seaborn as sns\n",
        "\n",
        "# Detecting and handling outliers in 'Accidents' column using IQR method\n",
        "Q1 = ds_ndup['Accidents'].quantile(0.25)\n",
        "Q3 = ds_ndup['Accidents'].quantile(0.75)\n",
        "IQR = Q3 - Q1\n",
        "\n",
        "# Define bounds for outliers\n",
        "lower_bound = Q1 - 1.5 * IQR\n",
        "upper_bound = Q3 + 1.5 * IQR\n",
        "\n",
        "# Identify outliers\n",
        "outliers = ds_ndup[(ds_ndup['Accidents'] < lower_bound) | (ds_ndup['Accidents'] > upper_bound)]\n",
        "print(\"\\nDetected outliers:\")\n",
        "print(outliers)\n",
        "\n",
        "# Option 1: Remove outliers\n",
        "ds_no_outliers = ds_ndup[(ds_ndup['Accidents'] >= lower_bound) & (ds_ndup['Accidents'] <= upper_bound)]\n",
        "print(\"\\nDataset after removing outliers:\")\n",
        "print(ds_no_outliers)\n",
        "\n",
        "# Option 2: Cap outliers (Winsorizing)\n",
        "ds_capped = ds_ndup.copy()\n",
        "ds_capped['Accidents'] = np.where(ds_capped['Accidents'] > upper_bound, upper_bound,\n",
        "                                  np.where(ds_capped['Accidents'] < lower_bound, lower_bound, ds_capped['Accidents']))\n",
        "print(\"\\nDataset after capping outliers:\")\n",
        "print(ds_capped)\n",
        "\n",
        "# Visualization using boxplot\n",
        "plt.figure(figsize=(8, 5))\n",
        "sns.boxplot(y='Accidents', data=ds_ndup)\n",
        "plt.title('Boxplot of Accidents with Outliers')\n",
        "plt.ylabel('Number of Accidents')\n",
        "plt.show()\n",
        "\n",
        "\n"
      ],
      "metadata": {
        "colab": {
          "base_uri": "https://localhost:8080/",
          "height": 813
        },
        "id": "7o4KYNjxZ-tt",
        "outputId": "e1bb0ce2-0ddd-49a2-f1e2-f215f7aedb7e"
      },
      "execution_count": 12,
      "outputs": [
        {
          "output_type": "stream",
          "name": "stdout",
          "text": [
            "\n",
            "Detected outliers:\n",
            "          City Weather  Severity  Accidents  City_Encoded\n",
            "1  Los Angeles   Rainy         2        150             3\n",
            "\n",
            "Dataset after removing outliers:\n",
            "       City Weather  Severity  Accidents  City_Encoded\n",
            "0  New York   Sunny         3        100             4\n",
            "3   Chicago  Cloudy         1         80             1\n",
            "4   Houston   Sunny         4         90             2\n",
            "6    Boston   Rainy         3         60             0\n",
            "7    Boston   Sunny         3         60             0\n",
            "\n",
            "Dataset after capping outliers:\n",
            "          City Weather  Severity  Accidents  City_Encoded\n",
            "0     New York   Sunny         3     100.00             4\n",
            "1  Los Angeles   Rainy         2     146.25             3\n",
            "3      Chicago  Cloudy         1      80.00             1\n",
            "4      Houston   Sunny         4      90.00             2\n",
            "6       Boston   Rainy         3      60.00             0\n",
            "7       Boston   Sunny         3      60.00             0\n"
          ]
        },
        {
          "output_type": "display_data",
          "data": {
            "text/plain": [
              "<Figure size 800x500 with 1 Axes>"
            ],
            "image/png": "[encoded data removed]"
          },
          "metadata": {}
        }
      ]
    }
  ]
}